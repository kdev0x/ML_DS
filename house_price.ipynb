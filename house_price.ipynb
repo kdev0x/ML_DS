{
  "nbformat": 4,
  "nbformat_minor": 0,
  "metadata": {
    "colab": {
      "provenance": [],
      "authorship_tag": "ABX9TyMJt4JU07vRM2YEBunpj4XL",
      "include_colab_link": true
    },
    "kernelspec": {
      "name": "python3",
      "display_name": "Python 3"
    },
    "language_info": {
      "name": "python"
    }
  },
  "cells": [
    {
      "cell_type": "markdown",
      "metadata": {
        "id": "view-in-github",
        "colab_type": "text"
      },
      "source": [
        "<a href=\"https://colab.research.google.com/github/kdev0x/ML_DS/blob/main/house_price.ipynb\" target=\"_parent\"><img src=\"https://colab.research.google.com/assets/colab-badge.svg\" alt=\"Open In Colab\"/></a>"
      ]
    },
    {
      "cell_type": "code",
      "execution_count": 25,
      "metadata": {
        "colab": {
          "base_uri": "https://localhost:8080/"
        },
        "id": "P2ixHax6EmTq",
        "outputId": "3135d559-19ca-4478-f7e3-7cf1d4c02103"
      },
      "outputs": [
        {
          "output_type": "stream",
          "name": "stdout",
          "text": [
            "Index(['Suburb', 'Address', 'Rooms', 'Type', 'Price', 'Method', 'SellerG',\n",
            "       'Date', 'Distance', 'Postcode', 'Bedroom2', 'Bathroom', 'Car',\n",
            "       'Landsize', 'BuildingArea', 'YearBuilt', 'CouncilArea', 'Lattitude',\n",
            "       'Longtitude', 'Regionname', 'Propertycount'],\n",
            "      dtype='object')\n"
          ]
        }
      ],
      "source": [
        "# %%\n",
        "import matplotlib.pyplot as plt\n",
        "import numpy as np\n",
        "import pandas as pd\n",
        "from sklearn.neighbors import KNeighborsClassifier\n",
        "from sklearn import linear_model\n",
        "from sklearn.metrics import accuracy_score , mean_absolute_error\n",
        "\n",
        "from sklearn.model_selection import train_test_split\n",
        "\n",
        "data = pd.read_csv(\"/melb_data.csv\")\n",
        "\n",
        "# print(data)\n",
        "\n",
        "\n",
        "# print(len(data))\n",
        "\n",
        "# # %%\n",
        "# print(data.shape)\n",
        "# print(data.head())\n",
        "print(data.columns)"
      ]
    },
    {
      "cell_type": "code",
      "source": [
        "\n",
        "x = data[['Rooms' , 'Bathroom' , 'Landsize' , 'Lattitude' , 'Longtitude']]\n",
        "y = data[['Price']]\n",
        "print(x)\n",
        "print(y)\n",
        "knn = KNeighborsClassifier(n_neighbors=7)\n",
        "knn.fit(x, y)\n",
        "y_pred = knn.predict(x.head(5))\n",
        "print(y_pred)\n"
      ],
      "metadata": {
        "colab": {
          "base_uri": "https://localhost:8080/"
        },
        "id": "P6Ch5FC5GxYe",
        "outputId": "83c5e216-15da-4229-b361-a826e270f79a"
      },
      "execution_count": 26,
      "outputs": [
        {
          "output_type": "stream",
          "name": "stdout",
          "text": [
            "       Rooms  Bathroom  Landsize  Lattitude  Longtitude\n",
            "0          2       1.0     202.0  -37.79960   144.99840\n",
            "1          2       1.0     156.0  -37.80790   144.99340\n",
            "2          3       2.0     134.0  -37.80930   144.99440\n",
            "3          3       2.0      94.0  -37.79690   144.99690\n",
            "4          4       1.0     120.0  -37.80720   144.99410\n",
            "...      ...       ...       ...        ...         ...\n",
            "13575      4       2.0     652.0  -37.90562   145.16761\n",
            "13576      3       2.0     333.0  -37.85927   144.87904\n",
            "13577      3       2.0     436.0  -37.85274   144.88738\n",
            "13578      4       1.0     866.0  -37.85908   144.89299\n",
            "13579      4       1.0     362.0  -37.81188   144.88449\n",
            "\n",
            "[13580 rows x 5 columns]\n",
            "           Price\n",
            "0      1480000.0\n",
            "1      1035000.0\n",
            "2      1465000.0\n",
            "3       850000.0\n",
            "4      1600000.0\n",
            "...          ...\n",
            "13575  1245000.0\n",
            "13576  1031000.0\n",
            "13577  1170000.0\n",
            "13578  2500000.0\n",
            "13579  1285000.0\n",
            "\n",
            "[13580 rows x 1 columns]\n",
            "[615000. 530000. 660000. 460000. 824000.]\n"
          ]
        },
        {
          "output_type": "stream",
          "name": "stderr",
          "text": [
            "/usr/local/lib/python3.10/dist-packages/sklearn/neighbors/_classification.py:215: DataConversionWarning: A column-vector y was passed when a 1d array was expected. Please change the shape of y to (n_samples,), for example using ravel().\n",
            "  return self._fit(X, y)\n"
          ]
        }
      ]
    },
    {
      "cell_type": "code",
      "source": [
        "print(x.head(5) , y.head(5))\n",
        "print(y_pred)\n"
      ],
      "metadata": {
        "colab": {
          "base_uri": "https://localhost:8080/"
        },
        "id": "QfUkdpfgHBQJ",
        "outputId": "d377899e-a436-4b1a-de07-e984dec9ab31"
      },
      "execution_count": 27,
      "outputs": [
        {
          "output_type": "stream",
          "name": "stdout",
          "text": [
            "   Rooms  Bathroom  Landsize  Lattitude  Longtitude\n",
            "0      2       1.0     202.0   -37.7996    144.9984\n",
            "1      2       1.0     156.0   -37.8079    144.9934\n",
            "2      3       2.0     134.0   -37.8093    144.9944\n",
            "3      3       2.0      94.0   -37.7969    144.9969\n",
            "4      4       1.0     120.0   -37.8072    144.9941        Price\n",
            "0  1480000.0\n",
            "1  1035000.0\n",
            "2  1465000.0\n",
            "3   850000.0\n",
            "4  1600000.0\n",
            "[615000. 530000. 660000. 460000. 824000.]\n"
          ]
        }
      ]
    },
    {
      "cell_type": "code",
      "source": [
        "\n",
        " y_pred = knn.predict(x.head(1))\n",
        " print(mean_absolute_error(y.head(1) , y_pred))"
      ],
      "metadata": {
        "colab": {
          "base_uri": "https://localhost:8080/"
        },
        "id": "6X5kgjWQHC-1",
        "outputId": "6752f335-0065-4c4b-a1d4-29c4d5d9838b"
      },
      "execution_count": 29,
      "outputs": [
        {
          "output_type": "stream",
          "name": "stdout",
          "text": [
            "865000.0\n"
          ]
        }
      ]
    },
    {
      "cell_type": "code",
      "source": [
        "print(x.head(1))\n"
      ],
      "metadata": {
        "colab": {
          "base_uri": "https://localhost:8080/"
        },
        "id": "LjLWbyTePMfG",
        "outputId": "78f77ecb-6b3b-4cd3-9b37-9d66dacbd94f"
      },
      "execution_count": 30,
      "outputs": [
        {
          "output_type": "stream",
          "name": "stdout",
          "text": [
            "   Rooms  Bathroom  Landsize  Lattitude  Longtitude\n",
            "0      2       1.0     202.0   -37.7996    144.9984\n"
          ]
        }
      ]
    },
    {
      "cell_type": "code",
      "source": [
        "print(y.head(1))"
      ],
      "metadata": {
        "colab": {
          "base_uri": "https://localhost:8080/"
        },
        "id": "0DX7aOdXPT0_",
        "outputId": "df52f89e-0f34-4bd6-f2fb-f15002044380"
      },
      "execution_count": 31,
      "outputs": [
        {
          "output_type": "stream",
          "name": "stdout",
          "text": [
            "       Price\n",
            "0  1480000.0\n"
          ]
        }
      ]
    },
    {
      "cell_type": "code",
      "source": [],
      "metadata": {
        "id": "0tzdy4fzPqS4"
      },
      "execution_count": null,
      "outputs": []
    },
    {
      "cell_type": "code",
      "source": [
        "\n",
        "print(y_pred)"
      ],
      "metadata": {
        "colab": {
          "base_uri": "https://localhost:8080/"
        },
        "id": "AI6DAFklPYtC",
        "outputId": "d901830d-7a1f-47a4-8c4a-286b3cbd6036"
      },
      "execution_count": 34,
      "outputs": [
        {
          "output_type": "stream",
          "name": "stdout",
          "text": [
            "[615000.]\n"
          ]
        }
      ]
    },
    {
      "cell_type": "code",
      "source": [
        "from sklearn.tree import DecisionTreeRegressor\n",
        "modletree = DecisionTreeRegressor()\n",
        "modletree.fit(x,y)\n",
        "modle_pred = modletree.predict(x.head(1))\n",
        "print(modle_pred)"
      ],
      "metadata": {
        "colab": {
          "base_uri": "https://localhost:8080/"
        },
        "id": "yNti9AgdPb-n",
        "outputId": "28f443c7-21f4-4575-a6d6-5927bf6b51a7"
      },
      "execution_count": 36,
      "outputs": [
        {
          "output_type": "stream",
          "name": "stdout",
          "text": [
            "[1480000.]\n"
          ]
        }
      ]
    }
  ]
}